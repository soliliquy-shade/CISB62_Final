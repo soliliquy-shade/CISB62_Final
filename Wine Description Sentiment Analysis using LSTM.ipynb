{
 "cells": [
  {
   "cell_type": "markdown",
   "id": "81116ae7",
   "metadata": {},
   "source": [
    "<h1><strong>Wine Description Sentiment Analysis using LSTM</strong></h1>\n",
    "<p>Samantha Fields-Samotowka</p>\n",
    "<p>CISB-62</p>\n",
    "<p>CRN 21058</p>\n",
    "<p>December 10, 2023</p>\n",
    "\n",
    "<h2>Explanation of Project</h2>\n",
    "<p>I will be running sentiment analysis on the descriptions of wines from reviewers, then taking in new reviews and determining the sentiment of them.</p>\n",
    "\n",
    "<h2>Techniques Employed</h2>\n",
    "<ul>\n",
    "    <li>LSTM</li>\n",
    "    <li>Regular Expressions</li>\n",
    "    <li>Tokenization</li>\n",
    "    <li>Text Processing</li>\n",
    "    <li>Dataset Processing and Manipulation</li>\n",
    "</ul>"
   ]
  },
  {
   "cell_type": "markdown",
   "id": "4ead2e22",
   "metadata": {},
   "source": [
    "<p>The dataset is pulled from <a href=\"https://www.kaggle.com/datasets/zynicide/wine-reviews/\">this link</a> from Kaggle. It was created and prepared by the user Zackthoutt. I will be using the V2 CSV file, located in the data subfolder.</p>"
   ]
  },
  {
   "cell_type": "markdown",
   "id": "1a53dc28",
   "metadata": {},
   "source": [
    "<p>For the new reviews, I read through the existing descriptions and took my time to craft three, shown below: a very positive, a very negative, and a neutral review.</p>\n",
    "<p>This wine is an absolute gem! From the moment I opened the bottle, the rich aroma of ripe berries and subtle hints of oak filled the air. The deep, velvety texture and complex flavour profile delighted my palate with notes of black cherry, vanilla, and a touch of spice. The tannins were smooth, providing a luxurious mouthfeel that lingered pleasantly. This wine is a true masterpiece, perfect for special occasions or simply indulging in a moment of pure bliss.</p>\n",
    "<p>I regretfully purchased this wine based on its seemingly positive reputation, and it was a complete disappointment. The first sip assaulted my senses with an overpowering acidity that overshadowed any potential flavours. The taste was harsh and astringent, leaving a bitter aftertaste that lingered unpleasantly. The alleged notes of fruit were practically nonexistent, drowned out by an overwhelming bitterness. I cannot fathom how anyone could enjoy this wine, and I certainly won't be making the mistake of buying it again.</p>\n",
    "<p>This wine falls somewhere in the middle for me. It has a decent balance of flavours without standing out in any particular way. The aroma upon opening was pleasant, with subtle notes of red berries and a hint of oak. The taste was moderate, with a mix of fruit flavors and a touch of earthiness. The acidity was present but not overly pronounced. The finish was smooth, although it didn't leave a lasting impression. Overall, it's an okay wine, suitable for casual occasions, but it lacks the complexity and depth that would make it truly memorable.</p>"
   ]
  },
  {
   "cell_type": "markdown",
   "id": "d4877ecc",
   "metadata": {},
   "source": [
    "<h3>Import Statements</h3>"
   ]
  },
  {
   "cell_type": "code",
   "execution_count": 1,
   "id": "2ee4da0d",
   "metadata": {},
   "outputs": [],
   "source": [
    "#General Libraries\n",
    "import pandas as pd\n",
    "import numpy as np\n",
    "import seaborn as sn\n",
    "import matplotlib.pyplot as plt\n",
    "\n",
    "#NLTK Text Processing Libraries\n",
    "import nltk\n",
    "from nltk.corpus import stopwords\n",
    "import re\n",
    "import string\n",
    "from string import punctuation\n",
    "\n",
    "#Model Building Libraries\n",
    "import tensorflow as tf\n",
    "import keras\n",
    "from sklearn.model_selection import train_test_split\n",
    "from keras.layers import Dense, LSTM, Embedding\n",
    "from keras.models import Sequential\n",
    "from keras.preprocessing.text import Tokenizer\n",
    "#For some reason, this would not work. I needed to do the full function call all the way back to Tensorflow\n",
    "#from keras.preprocessing import sequence \n",
    "\n",
    "#Model Saving and Loading Libraries\n",
    "from keras.callbacks import ModelCheckpoint\n",
    "from keras.models import load_model\n",
    "\n",
    "#Miscellaneous Library\n",
    "import warnings\n",
    "warnings.filterwarnings(\"ignore\")"
   ]
  },
  {
   "cell_type": "markdown",
   "id": "b0284cad",
   "metadata": {},
   "source": [
    "<h3>Dependencies and Constants</h3>"
   ]
  },
  {
   "cell_type": "code",
   "execution_count": 2,
   "id": "4f4d7233",
   "metadata": {},
   "outputs": [
    {
     "name": "stderr",
     "output_type": "stream",
     "text": [
      "[nltk_data] Downloading package stopwords to\n",
      "[nltk_data]     C:\\Users\\Samantha\\AppData\\Roaming\\nltk_data...\n",
      "[nltk_data]   Package stopwords is already up-to-date!\n"
     ]
    },
    {
     "data": {
      "text/plain": [
       "True"
      ]
     },
     "execution_count": 2,
     "metadata": {},
     "output_type": "execute_result"
    }
   ],
   "source": [
    "nltk.download(\"stopwords\")"
   ]
  },
  {
   "cell_type": "code",
   "execution_count": 3,
   "id": "8322ea27",
   "metadata": {},
   "outputs": [],
   "source": [
    "english_stops = set(stopwords.words(\"english\"))"
   ]
  },
  {
   "cell_type": "code",
   "execution_count": 4,
   "id": "b7ce1496",
   "metadata": {},
   "outputs": [],
   "source": [
    "checkpoint = ModelCheckpoint(\"models/LSTM.h5\", monitor=\"accuracy\", save_best_only=True, verbose=1)"
   ]
  },
  {
   "cell_type": "markdown",
   "id": "d48511df",
   "metadata": {},
   "source": [
    "<h3>Required Functions</h3>"
   ]
  },
  {
   "cell_type": "code",
   "execution_count": 5,
   "id": "7c6675b7",
   "metadata": {},
   "outputs": [],
   "source": [
    "#This function cleans a string of punctuation and stop words for NLP processing\n",
    "def get_text_processing(text):\n",
    "    stopword = stopwords.words(\"english\")\n",
    "    no_punc = [char for char in text if char not in string.punctuation]\n",
    "    no_punc = \"\".join(no_punc)\n",
    "    \n",
    "    return \" \".join([word for word in no_punc.split() if word.lower() not in stopword])"
   ]
  },
  {
   "cell_type": "code",
   "execution_count": 6,
   "id": "c3da72b0",
   "metadata": {},
   "outputs": [],
   "source": [
    "#This function cleans a sample of punctuation and stop words for Deep Learning processing\n",
    "#It also assigns the samples to Training and Testing variables\n",
    "def load_dataset(data, X, y):\n",
    "    df = data\n",
    "    \n",
    "    x_data = df[X]\n",
    "    y_data = df[y]\n",
    "    \n",
    "    x_data = x_data.replace({\"<.*?>\": \"\"}, regex=True)\n",
    "    x_data = x_data.replace({\"[^A-Za-z]\": \" \"}, regex=True)\n",
    "    x_data = x_data.apply(lambda X: [w for w in X.split() if w not in english_stops])\n",
    "    x_data = x_data.apply(lambda X: [w.lower() for w in X])\n",
    "    \n",
    "    y_data = y_data.replace(\"positive\", 1)\n",
    "    y_data = y_data.replace(\"negative\", 0)\n",
    "    \n",
    "    return x_data, y_data"
   ]
  },
  {
   "cell_type": "code",
   "execution_count": 7,
   "id": "131df3c4",
   "metadata": {},
   "outputs": [],
   "source": [
    "#This function gets the maximum length of the descriptions, for later padding and processing\n",
    "def get_max_length():\n",
    "    desc_length = []\n",
    "    for desc in X_train:\n",
    "        desc_length.append(len(desc))\n",
    "    \n",
    "    return int(np.ceil(np.mean(desc_length)))"
   ]
  },
  {
   "cell_type": "code",
   "execution_count": 8,
   "id": "365f3143",
   "metadata": {},
   "outputs": [],
   "source": [
    "#This function shows a given model's metrics\n",
    "def show_metric(model, metric_1, metric_2, title):\n",
    "    plt.figure(figsize=(12,6))\n",
    "    plt.plot(model.history.history[metric_1], label=metric_1)\n",
    "    plt.plot(model.history.history[metric_2], label=metric_2)\n",
    "    plt.legend()\n",
    "    plt.title(title)\n",
    "    plt.show()"
   ]
  },
  {
   "cell_type": "code",
   "execution_count": 9,
   "id": "5a07aa85",
   "metadata": {},
   "outputs": [],
   "source": [
    "#This function takes the description and cleans it of punctuation and stop words for running it through the model\n",
    "def filter_input(description):\n",
    "    regex = re.compile(r\"[^a-zA-Z\\s]\")\n",
    "    description = regex.sub(\"\", description)\n",
    "    print(\"Cleaned: \", description)\n",
    "    \n",
    "    words = description.split(\" \")\n",
    "    filtered = [w for w in words if w not in english_stops]\n",
    "    filtered = \" \".join(filtered)\n",
    "    filtered = [filtered.lower()]\n",
    "    print(\"Filtered: \", filtered)\n",
    "    \n",
    "    return filtered"
   ]
  },
  {
   "cell_type": "code",
   "execution_count": 10,
   "id": "ff0c12d6",
   "metadata": {},
   "outputs": [],
   "source": [
    "#This function takes in the model's output and determines if the review was positive or negative\n",
    "def display_results(result):\n",
    "    if result < 0.5:\n",
    "        print(\"The description was negative.\")\n",
    "    elif result >= 0.5:\n",
    "        print(\"The description was positive.\")"
   ]
  },
  {
   "cell_type": "code",
   "execution_count": 11,
   "id": "2e405808",
   "metadata": {},
   "outputs": [],
   "source": [
    "#This function takes in a review and predicts the sentiment\n",
    "def predict_sentiment():\n",
    "    description = str(input(\"Wine Description: \"))\n",
    "    print()\n",
    "    \n",
    "    filtered = filter_input(description)\n",
    "    print()\n",
    "    \n",
    "    tokenize_words = token.texts_to_sequences(filtered)\n",
    "    tokenize_words = tf.keras.preprocessing.sequence.pad_sequences(tokenize_words, maxlen=max_length, padding=\"post\", truncating=\"post\")\n",
    "    print(tokenize_words)\n",
    "    print()\n",
    "\n",
    "    result = loaded_model.predict(tokenize_words)\n",
    "    print(result)\n",
    "    print()\n",
    "\n",
    "    display_results(result)"
   ]
  },
  {
   "cell_type": "markdown",
   "id": "742713ea",
   "metadata": {},
   "source": [
    "<h1>Exploratory Data Analysis</h1>"
   ]
  },
  {
   "cell_type": "markdown",
   "id": "c932627e",
   "metadata": {},
   "source": [
    "<h3>Load data</h3>"
   ]
  },
  {
   "cell_type": "code",
   "execution_count": 12,
   "id": "d6da6171",
   "metadata": {},
   "outputs": [],
   "source": [
    "wine_reviews = pd.read_csv(\"data/winemag-data-130k-v2.csv\")"
   ]
  },
  {
   "cell_type": "markdown",
   "id": "f5490548",
   "metadata": {},
   "source": [
    "<h3>Visualization</h3>"
   ]
  },
  {
   "cell_type": "code",
   "execution_count": 13,
   "id": "37db71ce",
   "metadata": {
    "scrolled": true
   },
   "outputs": [
    {
     "data": {
      "text/html": [
       "<div>\n",
       "<style scoped>\n",
       "    .dataframe tbody tr th:only-of-type {\n",
       "        vertical-align: middle;\n",
       "    }\n",
       "\n",
       "    .dataframe tbody tr th {\n",
       "        vertical-align: top;\n",
       "    }\n",
       "\n",
       "    .dataframe thead th {\n",
       "        text-align: right;\n",
       "    }\n",
       "</style>\n",
       "<table border=\"1\" class=\"dataframe\">\n",
       "  <thead>\n",
       "    <tr style=\"text-align: right;\">\n",
       "      <th></th>\n",
       "      <th>Unnamed: 0</th>\n",
       "      <th>country</th>\n",
       "      <th>description</th>\n",
       "      <th>designation</th>\n",
       "      <th>points</th>\n",
       "      <th>price</th>\n",
       "      <th>province</th>\n",
       "      <th>region_1</th>\n",
       "      <th>region_2</th>\n",
       "      <th>taster_name</th>\n",
       "      <th>taster_twitter_handle</th>\n",
       "      <th>title</th>\n",
       "      <th>variety</th>\n",
       "      <th>winery</th>\n",
       "    </tr>\n",
       "  </thead>\n",
       "  <tbody>\n",
       "    <tr>\n",
       "      <th>0</th>\n",
       "      <td>0</td>\n",
       "      <td>Italy</td>\n",
       "      <td>Aromas include tropical fruit, broom, brimston...</td>\n",
       "      <td>Vulkà Bianco</td>\n",
       "      <td>87</td>\n",
       "      <td>NaN</td>\n",
       "      <td>Sicily &amp; Sardinia</td>\n",
       "      <td>Etna</td>\n",
       "      <td>NaN</td>\n",
       "      <td>Kerin O’Keefe</td>\n",
       "      <td>@kerinokeefe</td>\n",
       "      <td>Nicosia 2013 Vulkà Bianco  (Etna)</td>\n",
       "      <td>White Blend</td>\n",
       "      <td>Nicosia</td>\n",
       "    </tr>\n",
       "    <tr>\n",
       "      <th>1</th>\n",
       "      <td>1</td>\n",
       "      <td>Portugal</td>\n",
       "      <td>This is ripe and fruity, a wine that is smooth...</td>\n",
       "      <td>Avidagos</td>\n",
       "      <td>87</td>\n",
       "      <td>15.0</td>\n",
       "      <td>Douro</td>\n",
       "      <td>NaN</td>\n",
       "      <td>NaN</td>\n",
       "      <td>Roger Voss</td>\n",
       "      <td>@vossroger</td>\n",
       "      <td>Quinta dos Avidagos 2011 Avidagos Red (Douro)</td>\n",
       "      <td>Portuguese Red</td>\n",
       "      <td>Quinta dos Avidagos</td>\n",
       "    </tr>\n",
       "    <tr>\n",
       "      <th>2</th>\n",
       "      <td>2</td>\n",
       "      <td>US</td>\n",
       "      <td>Tart and snappy, the flavors of lime flesh and...</td>\n",
       "      <td>NaN</td>\n",
       "      <td>87</td>\n",
       "      <td>14.0</td>\n",
       "      <td>Oregon</td>\n",
       "      <td>Willamette Valley</td>\n",
       "      <td>Willamette Valley</td>\n",
       "      <td>Paul Gregutt</td>\n",
       "      <td>@paulgwine</td>\n",
       "      <td>Rainstorm 2013 Pinot Gris (Willamette Valley)</td>\n",
       "      <td>Pinot Gris</td>\n",
       "      <td>Rainstorm</td>\n",
       "    </tr>\n",
       "    <tr>\n",
       "      <th>3</th>\n",
       "      <td>3</td>\n",
       "      <td>US</td>\n",
       "      <td>Pineapple rind, lemon pith and orange blossom ...</td>\n",
       "      <td>Reserve Late Harvest</td>\n",
       "      <td>87</td>\n",
       "      <td>13.0</td>\n",
       "      <td>Michigan</td>\n",
       "      <td>Lake Michigan Shore</td>\n",
       "      <td>NaN</td>\n",
       "      <td>Alexander Peartree</td>\n",
       "      <td>NaN</td>\n",
       "      <td>St. Julian 2013 Reserve Late Harvest Riesling ...</td>\n",
       "      <td>Riesling</td>\n",
       "      <td>St. Julian</td>\n",
       "    </tr>\n",
       "    <tr>\n",
       "      <th>4</th>\n",
       "      <td>4</td>\n",
       "      <td>US</td>\n",
       "      <td>Much like the regular bottling from 2012, this...</td>\n",
       "      <td>Vintner's Reserve Wild Child Block</td>\n",
       "      <td>87</td>\n",
       "      <td>65.0</td>\n",
       "      <td>Oregon</td>\n",
       "      <td>Willamette Valley</td>\n",
       "      <td>Willamette Valley</td>\n",
       "      <td>Paul Gregutt</td>\n",
       "      <td>@paulgwine</td>\n",
       "      <td>Sweet Cheeks 2012 Vintner's Reserve Wild Child...</td>\n",
       "      <td>Pinot Noir</td>\n",
       "      <td>Sweet Cheeks</td>\n",
       "    </tr>\n",
       "  </tbody>\n",
       "</table>\n",
       "</div>"
      ],
      "text/plain": [
       "   Unnamed: 0   country                                        description  \\\n",
       "0           0     Italy  Aromas include tropical fruit, broom, brimston...   \n",
       "1           1  Portugal  This is ripe and fruity, a wine that is smooth...   \n",
       "2           2        US  Tart and snappy, the flavors of lime flesh and...   \n",
       "3           3        US  Pineapple rind, lemon pith and orange blossom ...   \n",
       "4           4        US  Much like the regular bottling from 2012, this...   \n",
       "\n",
       "                          designation  points  price           province  \\\n",
       "0                        Vulkà Bianco      87    NaN  Sicily & Sardinia   \n",
       "1                            Avidagos      87   15.0              Douro   \n",
       "2                                 NaN      87   14.0             Oregon   \n",
       "3                Reserve Late Harvest      87   13.0           Michigan   \n",
       "4  Vintner's Reserve Wild Child Block      87   65.0             Oregon   \n",
       "\n",
       "              region_1           region_2         taster_name  \\\n",
       "0                 Etna                NaN       Kerin O’Keefe   \n",
       "1                  NaN                NaN          Roger Voss   \n",
       "2    Willamette Valley  Willamette Valley        Paul Gregutt   \n",
       "3  Lake Michigan Shore                NaN  Alexander Peartree   \n",
       "4    Willamette Valley  Willamette Valley        Paul Gregutt   \n",
       "\n",
       "  taster_twitter_handle                                              title  \\\n",
       "0          @kerinokeefe                  Nicosia 2013 Vulkà Bianco  (Etna)   \n",
       "1            @vossroger      Quinta dos Avidagos 2011 Avidagos Red (Douro)   \n",
       "2           @paulgwine       Rainstorm 2013 Pinot Gris (Willamette Valley)   \n",
       "3                   NaN  St. Julian 2013 Reserve Late Harvest Riesling ...   \n",
       "4           @paulgwine   Sweet Cheeks 2012 Vintner's Reserve Wild Child...   \n",
       "\n",
       "          variety               winery  \n",
       "0     White Blend              Nicosia  \n",
       "1  Portuguese Red  Quinta dos Avidagos  \n",
       "2      Pinot Gris            Rainstorm  \n",
       "3        Riesling           St. Julian  \n",
       "4      Pinot Noir         Sweet Cheeks  "
      ]
     },
     "execution_count": 13,
     "metadata": {},
     "output_type": "execute_result"
    }
   ],
   "source": [
    "wine_reviews.head()"
   ]
  },
  {
   "cell_type": "code",
   "execution_count": 14,
   "id": "2a216a6b",
   "metadata": {},
   "outputs": [
    {
     "data": {
      "text/html": [
       "<div>\n",
       "<style scoped>\n",
       "    .dataframe tbody tr th:only-of-type {\n",
       "        vertical-align: middle;\n",
       "    }\n",
       "\n",
       "    .dataframe tbody tr th {\n",
       "        vertical-align: top;\n",
       "    }\n",
       "\n",
       "    .dataframe thead th {\n",
       "        text-align: right;\n",
       "    }\n",
       "</style>\n",
       "<table border=\"1\" class=\"dataframe\">\n",
       "  <thead>\n",
       "    <tr style=\"text-align: right;\">\n",
       "      <th></th>\n",
       "      <th>Unnamed: 0</th>\n",
       "      <th>country</th>\n",
       "      <th>description</th>\n",
       "      <th>designation</th>\n",
       "      <th>points</th>\n",
       "      <th>price</th>\n",
       "      <th>province</th>\n",
       "      <th>region_1</th>\n",
       "      <th>region_2</th>\n",
       "      <th>taster_name</th>\n",
       "      <th>taster_twitter_handle</th>\n",
       "      <th>title</th>\n",
       "      <th>variety</th>\n",
       "      <th>winery</th>\n",
       "    </tr>\n",
       "  </thead>\n",
       "  <tbody>\n",
       "    <tr>\n",
       "      <th>129966</th>\n",
       "      <td>129966</td>\n",
       "      <td>Germany</td>\n",
       "      <td>Notes of honeysuckle and cantaloupe sweeten th...</td>\n",
       "      <td>Brauneberger Juffer-Sonnenuhr Spätlese</td>\n",
       "      <td>90</td>\n",
       "      <td>28.0</td>\n",
       "      <td>Mosel</td>\n",
       "      <td>NaN</td>\n",
       "      <td>NaN</td>\n",
       "      <td>Anna Lee C. Iijima</td>\n",
       "      <td>NaN</td>\n",
       "      <td>Dr. H. Thanisch (Erben Müller-Burggraef) 2013 ...</td>\n",
       "      <td>Riesling</td>\n",
       "      <td>Dr. H. Thanisch (Erben Müller-Burggraef)</td>\n",
       "    </tr>\n",
       "    <tr>\n",
       "      <th>129967</th>\n",
       "      <td>129967</td>\n",
       "      <td>US</td>\n",
       "      <td>Citation is given as much as a decade of bottl...</td>\n",
       "      <td>NaN</td>\n",
       "      <td>90</td>\n",
       "      <td>75.0</td>\n",
       "      <td>Oregon</td>\n",
       "      <td>Oregon</td>\n",
       "      <td>Oregon Other</td>\n",
       "      <td>Paul Gregutt</td>\n",
       "      <td>@paulgwine</td>\n",
       "      <td>Citation 2004 Pinot Noir (Oregon)</td>\n",
       "      <td>Pinot Noir</td>\n",
       "      <td>Citation</td>\n",
       "    </tr>\n",
       "    <tr>\n",
       "      <th>129968</th>\n",
       "      <td>129968</td>\n",
       "      <td>France</td>\n",
       "      <td>Well-drained gravel soil gives this wine its c...</td>\n",
       "      <td>Kritt</td>\n",
       "      <td>90</td>\n",
       "      <td>30.0</td>\n",
       "      <td>Alsace</td>\n",
       "      <td>Alsace</td>\n",
       "      <td>NaN</td>\n",
       "      <td>Roger Voss</td>\n",
       "      <td>@vossroger</td>\n",
       "      <td>Domaine Gresser 2013 Kritt Gewurztraminer (Als...</td>\n",
       "      <td>Gewürztraminer</td>\n",
       "      <td>Domaine Gresser</td>\n",
       "    </tr>\n",
       "    <tr>\n",
       "      <th>129969</th>\n",
       "      <td>129969</td>\n",
       "      <td>France</td>\n",
       "      <td>A dry style of Pinot Gris, this is crisp with ...</td>\n",
       "      <td>NaN</td>\n",
       "      <td>90</td>\n",
       "      <td>32.0</td>\n",
       "      <td>Alsace</td>\n",
       "      <td>Alsace</td>\n",
       "      <td>NaN</td>\n",
       "      <td>Roger Voss</td>\n",
       "      <td>@vossroger</td>\n",
       "      <td>Domaine Marcel Deiss 2012 Pinot Gris (Alsace)</td>\n",
       "      <td>Pinot Gris</td>\n",
       "      <td>Domaine Marcel Deiss</td>\n",
       "    </tr>\n",
       "    <tr>\n",
       "      <th>129970</th>\n",
       "      <td>129970</td>\n",
       "      <td>France</td>\n",
       "      <td>Big, rich and off-dry, this is powered by inte...</td>\n",
       "      <td>Lieu-dit Harth Cuvée Caroline</td>\n",
       "      <td>90</td>\n",
       "      <td>21.0</td>\n",
       "      <td>Alsace</td>\n",
       "      <td>Alsace</td>\n",
       "      <td>NaN</td>\n",
       "      <td>Roger Voss</td>\n",
       "      <td>@vossroger</td>\n",
       "      <td>Domaine Schoffit 2012 Lieu-dit Harth Cuvée Car...</td>\n",
       "      <td>Gewürztraminer</td>\n",
       "      <td>Domaine Schoffit</td>\n",
       "    </tr>\n",
       "  </tbody>\n",
       "</table>\n",
       "</div>"
      ],
      "text/plain": [
       "        Unnamed: 0  country  \\\n",
       "129966      129966  Germany   \n",
       "129967      129967       US   \n",
       "129968      129968   France   \n",
       "129969      129969   France   \n",
       "129970      129970   France   \n",
       "\n",
       "                                              description  \\\n",
       "129966  Notes of honeysuckle and cantaloupe sweeten th...   \n",
       "129967  Citation is given as much as a decade of bottl...   \n",
       "129968  Well-drained gravel soil gives this wine its c...   \n",
       "129969  A dry style of Pinot Gris, this is crisp with ...   \n",
       "129970  Big, rich and off-dry, this is powered by inte...   \n",
       "\n",
       "                                   designation  points  price province  \\\n",
       "129966  Brauneberger Juffer-Sonnenuhr Spätlese      90   28.0    Mosel   \n",
       "129967                                     NaN      90   75.0   Oregon   \n",
       "129968                                   Kritt      90   30.0   Alsace   \n",
       "129969                                     NaN      90   32.0   Alsace   \n",
       "129970           Lieu-dit Harth Cuvée Caroline      90   21.0   Alsace   \n",
       "\n",
       "       region_1      region_2         taster_name taster_twitter_handle  \\\n",
       "129966      NaN           NaN  Anna Lee C. Iijima                   NaN   \n",
       "129967   Oregon  Oregon Other        Paul Gregutt           @paulgwine    \n",
       "129968   Alsace           NaN          Roger Voss            @vossroger   \n",
       "129969   Alsace           NaN          Roger Voss            @vossroger   \n",
       "129970   Alsace           NaN          Roger Voss            @vossroger   \n",
       "\n",
       "                                                    title         variety  \\\n",
       "129966  Dr. H. Thanisch (Erben Müller-Burggraef) 2013 ...        Riesling   \n",
       "129967                  Citation 2004 Pinot Noir (Oregon)      Pinot Noir   \n",
       "129968  Domaine Gresser 2013 Kritt Gewurztraminer (Als...  Gewürztraminer   \n",
       "129969      Domaine Marcel Deiss 2012 Pinot Gris (Alsace)      Pinot Gris   \n",
       "129970  Domaine Schoffit 2012 Lieu-dit Harth Cuvée Car...  Gewürztraminer   \n",
       "\n",
       "                                          winery  \n",
       "129966  Dr. H. Thanisch (Erben Müller-Burggraef)  \n",
       "129967                                  Citation  \n",
       "129968                           Domaine Gresser  \n",
       "129969                      Domaine Marcel Deiss  \n",
       "129970                          Domaine Schoffit  "
      ]
     },
     "execution_count": 14,
     "metadata": {},
     "output_type": "execute_result"
    }
   ],
   "source": [
    "wine_reviews.tail()"
   ]
  },
  {
   "cell_type": "code",
   "execution_count": 15,
   "id": "ef12f9b5",
   "metadata": {},
   "outputs": [
    {
     "data": {
      "text/plain": [
       "<Axes: xlabel='points', ylabel='count'>"
      ]
     },
     "execution_count": 15,
     "metadata": {},
     "output_type": "execute_result"
    },
    {
     "data": {
      "image/png": "[encoded data removed]",
      "text/plain": [
       "<Figure size 640x480 with 1 Axes>"
      ]
     },
     "metadata": {},
     "output_type": "display_data"
    }
   ],
   "source": [
    "sn.countplot(wine_reviews, x=\"points\")"
   ]
  },
  {
   "cell_type": "markdown",
   "id": "e7f07307",
   "metadata": {},
   "source": [
    "<h3>Data Transformation</h3>"
   ]
  },
  {
   "cell_type": "code",
   "execution_count": 16,
   "id": "21bbf0e4",
   "metadata": {},
   "outputs": [],
   "source": [
    "#Dropping unnecessary columns\n",
    "wine_clean = wine_reviews.drop(columns=[\"Unnamed: 0\", \"taster_twitter_handle\", \"title\", \"winery\"])\n",
    "wine_clean.dropna(inplace=True)"
   ]
  },
  {
   "cell_type": "code",
   "execution_count": 17,
   "id": "d7819d28",
   "metadata": {},
   "outputs": [
    {
     "data": {
      "text/html": [
       "<div>\n",
       "<style scoped>\n",
       "    .dataframe tbody tr th:only-of-type {\n",
       "        vertical-align: middle;\n",
       "    }\n",
       "\n",
       "    .dataframe tbody tr th {\n",
       "        vertical-align: top;\n",
       "    }\n",
       "\n",
       "    .dataframe thead th {\n",
       "        text-align: right;\n",
       "    }\n",
       "</style>\n",
       "<table border=\"1\" class=\"dataframe\">\n",
       "  <thead>\n",
       "    <tr style=\"text-align: right;\">\n",
       "      <th></th>\n",
       "      <th>country</th>\n",
       "      <th>description</th>\n",
       "      <th>designation</th>\n",
       "      <th>points</th>\n",
       "      <th>price</th>\n",
       "      <th>province</th>\n",
       "      <th>region_1</th>\n",
       "      <th>region_2</th>\n",
       "      <th>taster_name</th>\n",
       "      <th>variety</th>\n",
       "    </tr>\n",
       "  </thead>\n",
       "  <tbody>\n",
       "    <tr>\n",
       "      <th>4</th>\n",
       "      <td>US</td>\n",
       "      <td>Much like the regular bottling from 2012, this...</td>\n",
       "      <td>Vintner's Reserve Wild Child Block</td>\n",
       "      <td>87</td>\n",
       "      <td>65.0</td>\n",
       "      <td>Oregon</td>\n",
       "      <td>Willamette Valley</td>\n",
       "      <td>Willamette Valley</td>\n",
       "      <td>Paul Gregutt</td>\n",
       "      <td>Pinot Noir</td>\n",
       "    </tr>\n",
       "    <tr>\n",
       "      <th>10</th>\n",
       "      <td>US</td>\n",
       "      <td>Soft, supple plum envelopes an oaky structure ...</td>\n",
       "      <td>Mountain Cuvée</td>\n",
       "      <td>87</td>\n",
       "      <td>19.0</td>\n",
       "      <td>California</td>\n",
       "      <td>Napa Valley</td>\n",
       "      <td>Napa</td>\n",
       "      <td>Virginie Boone</td>\n",
       "      <td>Cabernet Sauvignon</td>\n",
       "    </tr>\n",
       "    <tr>\n",
       "      <th>23</th>\n",
       "      <td>US</td>\n",
       "      <td>This wine from the Geneseo district offers aro...</td>\n",
       "      <td>Signature Selection</td>\n",
       "      <td>87</td>\n",
       "      <td>22.0</td>\n",
       "      <td>California</td>\n",
       "      <td>Paso Robles</td>\n",
       "      <td>Central Coast</td>\n",
       "      <td>Matt Kettmann</td>\n",
       "      <td>Merlot</td>\n",
       "    </tr>\n",
       "    <tr>\n",
       "      <th>25</th>\n",
       "      <td>US</td>\n",
       "      <td>Oak and earth intermingle around robust aromas...</td>\n",
       "      <td>King Ridge Vineyard</td>\n",
       "      <td>87</td>\n",
       "      <td>69.0</td>\n",
       "      <td>California</td>\n",
       "      <td>Sonoma Coast</td>\n",
       "      <td>Sonoma</td>\n",
       "      <td>Virginie Boone</td>\n",
       "      <td>Pinot Noir</td>\n",
       "    </tr>\n",
       "    <tr>\n",
       "      <th>35</th>\n",
       "      <td>US</td>\n",
       "      <td>As with many of the Erath 2010 vineyard design...</td>\n",
       "      <td>Hyland</td>\n",
       "      <td>86</td>\n",
       "      <td>50.0</td>\n",
       "      <td>Oregon</td>\n",
       "      <td>McMinnville</td>\n",
       "      <td>Willamette Valley</td>\n",
       "      <td>Paul Gregutt</td>\n",
       "      <td>Pinot Noir</td>\n",
       "    </tr>\n",
       "  </tbody>\n",
       "</table>\n",
       "</div>"
      ],
      "text/plain": [
       "   country                                        description  \\\n",
       "4       US  Much like the regular bottling from 2012, this...   \n",
       "10      US  Soft, supple plum envelopes an oaky structure ...   \n",
       "23      US  This wine from the Geneseo district offers aro...   \n",
       "25      US  Oak and earth intermingle around robust aromas...   \n",
       "35      US  As with many of the Erath 2010 vineyard design...   \n",
       "\n",
       "                           designation  points  price    province  \\\n",
       "4   Vintner's Reserve Wild Child Block      87   65.0      Oregon   \n",
       "10                      Mountain Cuvée      87   19.0  California   \n",
       "23                 Signature Selection      87   22.0  California   \n",
       "25                 King Ridge Vineyard      87   69.0  California   \n",
       "35                              Hyland      86   50.0      Oregon   \n",
       "\n",
       "             region_1           region_2     taster_name             variety  \n",
       "4   Willamette Valley  Willamette Valley    Paul Gregutt          Pinot Noir  \n",
       "10        Napa Valley               Napa  Virginie Boone  Cabernet Sauvignon  \n",
       "23        Paso Robles      Central Coast   Matt Kettmann              Merlot  \n",
       "25       Sonoma Coast             Sonoma  Virginie Boone          Pinot Noir  \n",
       "35        McMinnville  Willamette Valley    Paul Gregutt          Pinot Noir  "
      ]
     },
     "execution_count": 17,
     "metadata": {},
     "output_type": "execute_result"
    }
   ],
   "source": [
    "wine_clean.head()"
   ]
  },
  {
   "cell_type": "code",
   "execution_count": 18,
   "id": "326983b4",
   "metadata": {},
   "outputs": [],
   "source": [
    "#Creating a new column for the rating, based on the points assigned by the reviewer\n",
    "wine_clean[\"polarity_rating\"] = wine_clean[\"points\"].apply(lambda x: \"positive\" if x > 85 else \"negative\")"
   ]
  },
  {
   "cell_type": "code",
   "execution_count": 19,
   "id": "a0597f62",
   "metadata": {},
   "outputs": [
    {
     "data": {
      "text/plain": [
       "<Axes: xlabel='points', ylabel='count'>"
      ]
     },
     "execution_count": 19,
     "metadata": {},
     "output_type": "execute_result"
    },
    {
     "data": {
      "image/png": "[encoded data removed]",
      "text/plain": [
       "<Figure size 640x480 with 1 Axes>"
      ]
     },
     "metadata": {},
     "output_type": "display_data"
    }
   ],
   "source": [
    "sn.countplot(wine_clean, x=\"points\")"
   ]
  },
  {
   "cell_type": "code",
   "execution_count": 20,
   "id": "8f8635b0",
   "metadata": {},
   "outputs": [
    {
     "data": {
      "text/plain": [
       "<Axes: xlabel='polarity_rating', ylabel='count'>"
      ]
     },
     "execution_count": 20,
     "metadata": {},
     "output_type": "execute_result"
    },
    {
     "data": {
      "image/png": "[encoded data removed]",
      "text/plain": [
       "<Figure size 640x480 with 1 Axes>"
      ]
     },
     "metadata": {},
     "output_type": "display_data"
    }
   ],
   "source": [
    "sn.countplot(wine_clean, x=\"polarity_rating\")"
   ]
  },
  {
   "cell_type": "code",
   "execution_count": 21,
   "id": "99f81485",
   "metadata": {},
   "outputs": [],
   "source": [
    "#Creating the sample dataset for analysis\n",
    "data_positive = wine_clean[wine_clean[\"polarity_rating\"] == \"positive\"][0:8000]\n",
    "data_negative = wine_clean[wine_clean[\"polarity_rating\"] == \"negative\"]"
   ]
  },
  {
   "cell_type": "code",
   "execution_count": 22,
   "id": "b6c332e7",
   "metadata": {},
   "outputs": [],
   "source": [
    "data_negative_over = data_negative.sample(8000, replace=True)\n",
    "data = pd.concat([data_positive, data_negative_over], axis=0)"
   ]
  },
  {
   "cell_type": "code",
   "execution_count": 23,
   "id": "059c49f2",
   "metadata": {},
   "outputs": [
    {
     "data": {
      "text/html": [
       "<div>\n",
       "<style scoped>\n",
       "    .dataframe tbody tr th:only-of-type {\n",
       "        vertical-align: middle;\n",
       "    }\n",
       "\n",
       "    .dataframe tbody tr th {\n",
       "        vertical-align: top;\n",
       "    }\n",
       "\n",
       "    .dataframe thead th {\n",
       "        text-align: right;\n",
       "    }\n",
       "</style>\n",
       "<table border=\"1\" class=\"dataframe\">\n",
       "  <thead>\n",
       "    <tr style=\"text-align: right;\">\n",
       "      <th></th>\n",
       "      <th>country</th>\n",
       "      <th>description</th>\n",
       "      <th>designation</th>\n",
       "      <th>points</th>\n",
       "      <th>price</th>\n",
       "      <th>province</th>\n",
       "      <th>region_1</th>\n",
       "      <th>region_2</th>\n",
       "      <th>taster_name</th>\n",
       "      <th>variety</th>\n",
       "      <th>polarity_rating</th>\n",
       "    </tr>\n",
       "  </thead>\n",
       "  <tbody>\n",
       "    <tr>\n",
       "      <th>4</th>\n",
       "      <td>US</td>\n",
       "      <td>Much like the regular bottling from 2012, this...</td>\n",
       "      <td>Vintner's Reserve Wild Child Block</td>\n",
       "      <td>87</td>\n",
       "      <td>65.0</td>\n",
       "      <td>Oregon</td>\n",
       "      <td>Willamette Valley</td>\n",
       "      <td>Willamette Valley</td>\n",
       "      <td>Paul Gregutt</td>\n",
       "      <td>Pinot Noir</td>\n",
       "      <td>positive</td>\n",
       "    </tr>\n",
       "    <tr>\n",
       "      <th>10</th>\n",
       "      <td>US</td>\n",
       "      <td>Soft, supple plum envelopes an oaky structure ...</td>\n",
       "      <td>Mountain Cuvée</td>\n",
       "      <td>87</td>\n",
       "      <td>19.0</td>\n",
       "      <td>California</td>\n",
       "      <td>Napa Valley</td>\n",
       "      <td>Napa</td>\n",
       "      <td>Virginie Boone</td>\n",
       "      <td>Cabernet Sauvignon</td>\n",
       "      <td>positive</td>\n",
       "    </tr>\n",
       "    <tr>\n",
       "      <th>23</th>\n",
       "      <td>US</td>\n",
       "      <td>This wine from the Geneseo district offers aro...</td>\n",
       "      <td>Signature Selection</td>\n",
       "      <td>87</td>\n",
       "      <td>22.0</td>\n",
       "      <td>California</td>\n",
       "      <td>Paso Robles</td>\n",
       "      <td>Central Coast</td>\n",
       "      <td>Matt Kettmann</td>\n",
       "      <td>Merlot</td>\n",
       "      <td>positive</td>\n",
       "    </tr>\n",
       "    <tr>\n",
       "      <th>25</th>\n",
       "      <td>US</td>\n",
       "      <td>Oak and earth intermingle around robust aromas...</td>\n",
       "      <td>King Ridge Vineyard</td>\n",
       "      <td>87</td>\n",
       "      <td>69.0</td>\n",
       "      <td>California</td>\n",
       "      <td>Sonoma Coast</td>\n",
       "      <td>Sonoma</td>\n",
       "      <td>Virginie Boone</td>\n",
       "      <td>Pinot Noir</td>\n",
       "      <td>positive</td>\n",
       "    </tr>\n",
       "    <tr>\n",
       "      <th>35</th>\n",
       "      <td>US</td>\n",
       "      <td>As with many of the Erath 2010 vineyard design...</td>\n",
       "      <td>Hyland</td>\n",
       "      <td>86</td>\n",
       "      <td>50.0</td>\n",
       "      <td>Oregon</td>\n",
       "      <td>McMinnville</td>\n",
       "      <td>Willamette Valley</td>\n",
       "      <td>Paul Gregutt</td>\n",
       "      <td>Pinot Noir</td>\n",
       "      <td>positive</td>\n",
       "    </tr>\n",
       "  </tbody>\n",
       "</table>\n",
       "</div>"
      ],
      "text/plain": [
       "   country                                        description  \\\n",
       "4       US  Much like the regular bottling from 2012, this...   \n",
       "10      US  Soft, supple plum envelopes an oaky structure ...   \n",
       "23      US  This wine from the Geneseo district offers aro...   \n",
       "25      US  Oak and earth intermingle around robust aromas...   \n",
       "35      US  As with many of the Erath 2010 vineyard design...   \n",
       "\n",
       "                           designation  points  price    province  \\\n",
       "4   Vintner's Reserve Wild Child Block      87   65.0      Oregon   \n",
       "10                      Mountain Cuvée      87   19.0  California   \n",
       "23                 Signature Selection      87   22.0  California   \n",
       "25                 King Ridge Vineyard      87   69.0  California   \n",
       "35                              Hyland      86   50.0      Oregon   \n",
       "\n",
       "             region_1           region_2     taster_name             variety  \\\n",
       "4   Willamette Valley  Willamette Valley    Paul Gregutt          Pinot Noir   \n",
       "10        Napa Valley               Napa  Virginie Boone  Cabernet Sauvignon   \n",
       "23        Paso Robles      Central Coast   Matt Kettmann              Merlot   \n",
       "25       Sonoma Coast             Sonoma  Virginie Boone          Pinot Noir   \n",
       "35        McMinnville  Willamette Valley    Paul Gregutt          Pinot Noir   \n",
       "\n",
       "   polarity_rating  \n",
       "4         positive  \n",
       "10        positive  \n",
       "23        positive  \n",
       "25        positive  \n",
       "35        positive  "
      ]
     },
     "execution_count": 23,
     "metadata": {},
     "output_type": "execute_result"
    }
   ],
   "source": [
    "data.head()"
   ]
  },
  {
   "cell_type": "code",
   "execution_count": 24,
   "id": "15d01fe4",
   "metadata": {},
   "outputs": [],
   "source": [
    "#Processing the descriptions for punctuation and stop words\n",
    "data[\"desc\"] = data[\"description\"].apply(get_text_processing)"
   ]
  },
  {
   "cell_type": "code",
   "execution_count": 25,
   "id": "5f0fc0b3",
   "metadata": {},
   "outputs": [
    {
     "data": {
      "text/html": [
       "<div>\n",
       "<style scoped>\n",
       "    .dataframe tbody tr th:only-of-type {\n",
       "        vertical-align: middle;\n",
       "    }\n",
       "\n",
       "    .dataframe tbody tr th {\n",
       "        vertical-align: top;\n",
       "    }\n",
       "\n",
       "    .dataframe thead th {\n",
       "        text-align: right;\n",
       "    }\n",
       "</style>\n",
       "<table border=\"1\" class=\"dataframe\">\n",
       "  <thead>\n",
       "    <tr style=\"text-align: right;\">\n",
       "      <th></th>\n",
       "      <th>country</th>\n",
       "      <th>description</th>\n",
       "      <th>designation</th>\n",
       "      <th>points</th>\n",
       "      <th>price</th>\n",
       "      <th>province</th>\n",
       "      <th>region_1</th>\n",
       "      <th>region_2</th>\n",
       "      <th>taster_name</th>\n",
       "      <th>variety</th>\n",
       "      <th>polarity_rating</th>\n",
       "      <th>desc</th>\n",
       "    </tr>\n",
       "  </thead>\n",
       "  <tbody>\n",
       "    <tr>\n",
       "      <th>4</th>\n",
       "      <td>US</td>\n",
       "      <td>Much like the regular bottling from 2012, this...</td>\n",
       "      <td>Vintner's Reserve Wild Child Block</td>\n",
       "      <td>87</td>\n",
       "      <td>65.0</td>\n",
       "      <td>Oregon</td>\n",
       "      <td>Willamette Valley</td>\n",
       "      <td>Willamette Valley</td>\n",
       "      <td>Paul Gregutt</td>\n",
       "      <td>Pinot Noir</td>\n",
       "      <td>positive</td>\n",
       "      <td>Much like regular bottling 2012 comes across r...</td>\n",
       "    </tr>\n",
       "    <tr>\n",
       "      <th>10</th>\n",
       "      <td>US</td>\n",
       "      <td>Soft, supple plum envelopes an oaky structure ...</td>\n",
       "      <td>Mountain Cuvée</td>\n",
       "      <td>87</td>\n",
       "      <td>19.0</td>\n",
       "      <td>California</td>\n",
       "      <td>Napa Valley</td>\n",
       "      <td>Napa</td>\n",
       "      <td>Virginie Boone</td>\n",
       "      <td>Cabernet Sauvignon</td>\n",
       "      <td>positive</td>\n",
       "      <td>Soft supple plum envelopes oaky structure Cabe...</td>\n",
       "    </tr>\n",
       "    <tr>\n",
       "      <th>23</th>\n",
       "      <td>US</td>\n",
       "      <td>This wine from the Geneseo district offers aro...</td>\n",
       "      <td>Signature Selection</td>\n",
       "      <td>87</td>\n",
       "      <td>22.0</td>\n",
       "      <td>California</td>\n",
       "      <td>Paso Robles</td>\n",
       "      <td>Central Coast</td>\n",
       "      <td>Matt Kettmann</td>\n",
       "      <td>Merlot</td>\n",
       "      <td>positive</td>\n",
       "      <td>wine Geneseo district offers aromas sour plums...</td>\n",
       "    </tr>\n",
       "    <tr>\n",
       "      <th>25</th>\n",
       "      <td>US</td>\n",
       "      <td>Oak and earth intermingle around robust aromas...</td>\n",
       "      <td>King Ridge Vineyard</td>\n",
       "      <td>87</td>\n",
       "      <td>69.0</td>\n",
       "      <td>California</td>\n",
       "      <td>Sonoma Coast</td>\n",
       "      <td>Sonoma</td>\n",
       "      <td>Virginie Boone</td>\n",
       "      <td>Pinot Noir</td>\n",
       "      <td>positive</td>\n",
       "      <td>Oak earth intermingle around robust aromas wet...</td>\n",
       "    </tr>\n",
       "    <tr>\n",
       "      <th>35</th>\n",
       "      <td>US</td>\n",
       "      <td>As with many of the Erath 2010 vineyard design...</td>\n",
       "      <td>Hyland</td>\n",
       "      <td>86</td>\n",
       "      <td>50.0</td>\n",
       "      <td>Oregon</td>\n",
       "      <td>McMinnville</td>\n",
       "      <td>Willamette Valley</td>\n",
       "      <td>Paul Gregutt</td>\n",
       "      <td>Pinot Noir</td>\n",
       "      <td>positive</td>\n",
       "      <td>many Erath 2010 vineyard designates strongly h...</td>\n",
       "    </tr>\n",
       "  </tbody>\n",
       "</table>\n",
       "</div>"
      ],
      "text/plain": [
       "   country                                        description  \\\n",
       "4       US  Much like the regular bottling from 2012, this...   \n",
       "10      US  Soft, supple plum envelopes an oaky structure ...   \n",
       "23      US  This wine from the Geneseo district offers aro...   \n",
       "25      US  Oak and earth intermingle around robust aromas...   \n",
       "35      US  As with many of the Erath 2010 vineyard design...   \n",
       "\n",
       "                           designation  points  price    province  \\\n",
       "4   Vintner's Reserve Wild Child Block      87   65.0      Oregon   \n",
       "10                      Mountain Cuvée      87   19.0  California   \n",
       "23                 Signature Selection      87   22.0  California   \n",
       "25                 King Ridge Vineyard      87   69.0  California   \n",
       "35                              Hyland      86   50.0      Oregon   \n",
       "\n",
       "             region_1           region_2     taster_name             variety  \\\n",
       "4   Willamette Valley  Willamette Valley    Paul Gregutt          Pinot Noir   \n",
       "10        Napa Valley               Napa  Virginie Boone  Cabernet Sauvignon   \n",
       "23        Paso Robles      Central Coast   Matt Kettmann              Merlot   \n",
       "25       Sonoma Coast             Sonoma  Virginie Boone          Pinot Noir   \n",
       "35        McMinnville  Willamette Valley    Paul Gregutt          Pinot Noir   \n",
       "\n",
       "   polarity_rating                                               desc  \n",
       "4         positive  Much like regular bottling 2012 comes across r...  \n",
       "10        positive  Soft supple plum envelopes oaky structure Cabe...  \n",
       "23        positive  wine Geneseo district offers aromas sour plums...  \n",
       "25        positive  Oak earth intermingle around robust aromas wet...  \n",
       "35        positive  many Erath 2010 vineyard designates strongly h...  "
      ]
     },
     "execution_count": 25,
     "metadata": {},
     "output_type": "execute_result"
    }
   ],
   "source": [
    "data.head()"
   ]
  },
  {
   "cell_type": "code",
   "execution_count": 26,
   "id": "24bfc757",
   "metadata": {},
   "outputs": [],
   "source": [
    "#Creating a table of just the processed descriptions and rating\n",
    "data_desc_rating = data[[\"desc\", \"polarity_rating\"]]"
   ]
  },
  {
   "cell_type": "code",
   "execution_count": 27,
   "id": "5548377a",
   "metadata": {},
   "outputs": [
    {
     "data": {
      "text/html": [
       "<div>\n",
       "<style scoped>\n",
       "    .dataframe tbody tr th:only-of-type {\n",
       "        vertical-align: middle;\n",
       "    }\n",
       "\n",
       "    .dataframe tbody tr th {\n",
       "        vertical-align: top;\n",
       "    }\n",
       "\n",
       "    .dataframe thead th {\n",
       "        text-align: right;\n",
       "    }\n",
       "</style>\n",
       "<table border=\"1\" class=\"dataframe\">\n",
       "  <thead>\n",
       "    <tr style=\"text-align: right;\">\n",
       "      <th></th>\n",
       "      <th>desc</th>\n",
       "      <th>polarity_rating</th>\n",
       "    </tr>\n",
       "  </thead>\n",
       "  <tbody>\n",
       "    <tr>\n",
       "      <th>4</th>\n",
       "      <td>Much like regular bottling 2012 comes across r...</td>\n",
       "      <td>positive</td>\n",
       "    </tr>\n",
       "    <tr>\n",
       "      <th>10</th>\n",
       "      <td>Soft supple plum envelopes oaky structure Cabe...</td>\n",
       "      <td>positive</td>\n",
       "    </tr>\n",
       "    <tr>\n",
       "      <th>23</th>\n",
       "      <td>wine Geneseo district offers aromas sour plums...</td>\n",
       "      <td>positive</td>\n",
       "    </tr>\n",
       "    <tr>\n",
       "      <th>25</th>\n",
       "      <td>Oak earth intermingle around robust aromas wet...</td>\n",
       "      <td>positive</td>\n",
       "    </tr>\n",
       "    <tr>\n",
       "      <th>35</th>\n",
       "      <td>many Erath 2010 vineyard designates strongly h...</td>\n",
       "      <td>positive</td>\n",
       "    </tr>\n",
       "  </tbody>\n",
       "</table>\n",
       "</div>"
      ],
      "text/plain": [
       "                                                 desc polarity_rating\n",
       "4   Much like regular bottling 2012 comes across r...        positive\n",
       "10  Soft supple plum envelopes oaky structure Cabe...        positive\n",
       "23  wine Geneseo district offers aromas sour plums...        positive\n",
       "25  Oak earth intermingle around robust aromas wet...        positive\n",
       "35  many Erath 2010 vineyard designates strongly h...        positive"
      ]
     },
     "execution_count": 27,
     "metadata": {},
     "output_type": "execute_result"
    }
   ],
   "source": [
    "data_desc_rating.head()"
   ]
  },
  {
   "cell_type": "code",
   "execution_count": 28,
   "id": "33e3db44",
   "metadata": {},
   "outputs": [
    {
     "name": "stdout",
     "output_type": "stream",
     "text": [
      "Description\n",
      "4         [much, like, regular, bottling, comes, across,...\n",
      "10        [soft, supple, plum, envelopes, oaky, structur...\n",
      "23        [wine, geneseo, district, offers, aromas, sour...\n",
      "25        [oak, earth, intermingle, around, robust, arom...\n",
      "35        [many, erath, vineyard, designates, strongly, ...\n",
      "                                ...                        \n",
      "70743     [muscat, gummy, herb, aromas, followed, dry, t...\n",
      "120915    [barrelfermented, pungent, whiff, glue, simple...\n",
      "59041     [barrel, aromas, vanilla, coconut, far, front,...\n",
      "29734     [principally, tempranillo, blended, red, shows...\n",
      "62490     [lodigrown, blend, chardonnay, sauvignon, blan...\n",
      "Name: desc, Length: 16000, dtype: object \n",
      "\n",
      "Sentiment\n",
      "4         1\n",
      "10        1\n",
      "23        1\n",
      "25        1\n",
      "35        1\n",
      "         ..\n",
      "70743     0\n",
      "120915    0\n",
      "59041     0\n",
      "29734     0\n",
      "62490     0\n",
      "Name: polarity_rating, Length: 16000, dtype: int64\n"
     ]
    }
   ],
   "source": [
    "#Assigning the new table to a dataset\n",
    "x_data, y_data = load_dataset(data_desc_rating, \"desc\", \"polarity_rating\")\n",
    "print(\"Description\")\n",
    "print(x_data, \"\\n\")\n",
    "print(\"Sentiment\")\n",
    "print(y_data)"
   ]
  },
  {
   "cell_type": "code",
   "execution_count": 29,
   "id": "da430129",
   "metadata": {},
   "outputs": [],
   "source": [
    "#Splitting the dataset for Training and Testing\n",
    "X_train, X_test, y_train, y_test = train_test_split(x_data, y_data, test_size=0.20)"
   ]
  },
  {
   "cell_type": "code",
   "execution_count": 30,
   "id": "b991a445",
   "metadata": {},
   "outputs": [
    {
     "name": "stdout",
     "output_type": "stream",
     "text": [
      "24\n"
     ]
    }
   ],
   "source": [
    "#Finding the maximum length of the descriptions\n",
    "max_length = get_max_length()\n",
    "print(max_length)"
   ]
  },
  {
   "cell_type": "code",
   "execution_count": 31,
   "id": "8e609adb",
   "metadata": {},
   "outputs": [],
   "source": [
    "#Instantiating the Keras Tokenizer\n",
    "token = Tokenizer(lower=False)\n",
    "\n",
    "#Fitting the Training subset to the tokenizer\n",
    "token.fit_on_texts(X_train)\n",
    "\n",
    "X_train = token.texts_to_sequences(X_train)\n",
    "X_test = token.texts_to_sequences(X_test)\n",
    "\n",
    "X_train = tf.keras.preprocessing.sequence.pad_sequences(X_train, maxlen=max_length, padding=\"post\", truncating=\"post\")\n",
    "X_test = tf.keras.preprocessing.sequence.pad_sequences(X_test, maxlen=max_length, padding=\"post\", truncating=\"post\")\n",
    "#The pad_sequences function call here only worked when I used the full length sequence to call it. I have no idea why.\n",
    "\n",
    "total_words = len(token.word_index) + 1"
   ]
  },
  {
   "cell_type": "code",
   "execution_count": 32,
   "id": "b0e75baa",
   "metadata": {},
   "outputs": [
    {
     "name": "stdout",
     "output_type": "stream",
     "text": [
      "[[  26   13   63 ... 6024   38    0]\n",
      " [ 445   40  373 ...  796   43   13]\n",
      " [ 224  240   43 ...  328    6    0]\n",
      " ...\n",
      " [  76  737  508 ... 1401  102  344]\n",
      " [  17   88   66 ...    0    0    0]\n",
      " [  26 3587   35 ...    0    0    0]]\n",
      "[[ 520 2858 1977 ...    1 1273 4474]\n",
      " [3701   35  214 ...    0    0    0]\n",
      " [ 119  236   11 ...    0    0    0]\n",
      " ...\n",
      " [ 129  313    3 ...  401  935  793]\n",
      " [1251   94   77 ...   54  176    3]\n",
      " [1809    1  302 ...   58   56  584]]\n",
      "24\n"
     ]
    }
   ],
   "source": [
    "print(X_train)\n",
    "print(X_test)\n",
    "print(max_length)"
   ]
  },
  {
   "cell_type": "markdown",
   "id": "b05c6c99",
   "metadata": {},
   "source": [
    "<h1>Model Training and Sentiment Analysis</h1>"
   ]
  },
  {
   "cell_type": "code",
   "execution_count": 33,
   "id": "fc28ece7",
   "metadata": {},
   "outputs": [],
   "source": [
    "embed_dim = 32\n",
    "lstm_out = 64"
   ]
  },
  {
   "cell_type": "code",
   "execution_count": 34,
   "id": "ad5d1acb",
   "metadata": {},
   "outputs": [],
   "source": [
    "#Instantiating the Sequential model\n",
    "model = Sequential()\n",
    "\n",
    "#Input Layer and LSTM Layer\n",
    "model.add(Embedding(total_words, embed_dim, input_length=max_length))\n",
    "model.add(LSTM(lstm_out))\n",
    "\n",
    "#Output Layer\n",
    "model.add(Dense(1, activation=\"sigmoid\"))"
   ]
  },
  {
   "cell_type": "code",
   "execution_count": 35,
   "id": "14a5d852",
   "metadata": {},
   "outputs": [],
   "source": [
    "model.compile(loss=\"binary_crossentropy\", optimizer=\"adam\", metrics=[\"accuracy\"])"
   ]
  },
  {
   "cell_type": "code",
   "execution_count": 36,
   "id": "0bd2523c",
   "metadata": {},
   "outputs": [
    {
     "name": "stdout",
     "output_type": "stream",
     "text": [
      "Model: \"sequential\"\n",
      "_________________________________________________________________\n",
      " Layer (type)                Output Shape              Param #   \n",
      "=================================================================\n",
      " embedding (Embedding)       (None, 24, 32)            377152    \n",
      "                                                                 \n",
      " lstm (LSTM)                 (None, 64)                24832     \n",
      "                                                                 \n",
      " dense (Dense)               (None, 1)                 65        \n",
      "                                                                 \n",
      "=================================================================\n",
      "Total params: 402,049\n",
      "Trainable params: 402,049\n",
      "Non-trainable params: 0\n",
      "_________________________________________________________________\n"
     ]
    }
   ],
   "source": [
    "model.summary()"
   ]
  },
  {
   "cell_type": "code",
   "execution_count": 37,
   "id": "47031b14",
   "metadata": {},
   "outputs": [
    {
     "name": "stdout",
     "output_type": "stream",
     "text": [
      "Epoch 1/10\n",
      " 99/100 [============================>.] - ETA: 0s - loss: 0.4507 - accuracy: 0.7706\n",
      "Epoch 1: accuracy improved from -inf to 0.77180, saving model to models\\LSTM.h5\n",
      "100/100 [==============================] - 10s 53ms/step - loss: 0.4488 - accuracy: 0.7718 - val_loss: 0.2767 - val_accuracy: 0.8878\n",
      "Epoch 2/10\n",
      " 99/100 [============================>.] - ETA: 0s - loss: 0.1805 - accuracy: 0.9361\n",
      "Epoch 2: accuracy improved from 0.77180 to 0.93625, saving model to models\\LSTM.h5\n",
      "100/100 [==============================] - 4s 44ms/step - loss: 0.1800 - accuracy: 0.9362 - val_loss: 0.2021 - val_accuracy: 0.9247\n",
      "Epoch 3/10\n",
      " 99/100 [============================>.] - ETA: 0s - loss: 0.0954 - accuracy: 0.9697\n",
      "Epoch 3: accuracy improved from 0.93625 to 0.96977, saving model to models\\LSTM.h5\n",
      "100/100 [==============================] - 3s 34ms/step - loss: 0.0955 - accuracy: 0.9698 - val_loss: 0.1880 - val_accuracy: 0.9391\n",
      "Epoch 4/10\n",
      "100/100 [==============================] - ETA: 0s - loss: 0.0531 - accuracy: 0.9853\n",
      "Epoch 4: accuracy improved from 0.96977 to 0.98531, saving model to models\\LSTM.h5\n",
      "100/100 [==============================] - 3s 30ms/step - loss: 0.0531 - accuracy: 0.9853 - val_loss: 0.2176 - val_accuracy: 0.9366\n",
      "Epoch 5/10\n",
      " 99/100 [============================>.] - ETA: 0s - loss: 0.0329 - accuracy: 0.9915\n",
      "Epoch 5: accuracy improved from 0.98531 to 0.99117, saving model to models\\LSTM.h5\n",
      "100/100 [==============================] - 3s 31ms/step - loss: 0.0338 - accuracy: 0.9912 - val_loss: 0.2076 - val_accuracy: 0.9409\n",
      "Epoch 6/10\n",
      "100/100 [==============================] - ETA: 0s - loss: 0.0280 - accuracy: 0.9914\n",
      "Epoch 6: accuracy improved from 0.99117 to 0.99141, saving model to models\\LSTM.h5\n",
      "100/100 [==============================] - 3s 30ms/step - loss: 0.0280 - accuracy: 0.9914 - val_loss: 0.2322 - val_accuracy: 0.9394\n",
      "Epoch 7/10\n",
      " 99/100 [============================>.] - ETA: 0s - loss: 0.0180 - accuracy: 0.9947\n",
      "Epoch 7: accuracy improved from 0.99141 to 0.99461, saving model to models\\LSTM.h5\n",
      "100/100 [==============================] - 3s 32ms/step - loss: 0.0181 - accuracy: 0.9946 - val_loss: 0.3005 - val_accuracy: 0.9312\n",
      "Epoch 8/10\n",
      "100/100 [==============================] - ETA: 0s - loss: 0.0153 - accuracy: 0.9965\n",
      "Epoch 8: accuracy improved from 0.99461 to 0.99648, saving model to models\\LSTM.h5\n",
      "100/100 [==============================] - 3s 32ms/step - loss: 0.0153 - accuracy: 0.9965 - val_loss: 0.2827 - val_accuracy: 0.9359\n",
      "Epoch 9/10\n",
      "100/100 [==============================] - ETA: 0s - loss: 0.0096 - accuracy: 0.9977\n",
      "Epoch 9: accuracy improved from 0.99648 to 0.99766, saving model to models\\LSTM.h5\n",
      "100/100 [==============================] - 3s 32ms/step - loss: 0.0096 - accuracy: 0.9977 - val_loss: 0.2790 - val_accuracy: 0.9359\n",
      "Epoch 10/10\n",
      " 99/100 [============================>.] - ETA: 0s - loss: 0.0120 - accuracy: 0.9963\n",
      "Epoch 10: accuracy did not improve from 0.99766\n",
      "100/100 [==============================] - 3s 30ms/step - loss: 0.0121 - accuracy: 0.9962 - val_loss: 0.2972 - val_accuracy: 0.9416\n"
     ]
    },
    {
     "data": {
      "text/plain": [
       "<keras.callbacks.History at 0x24642be8e20>"
      ]
     },
     "execution_count": 37,
     "metadata": {},
     "output_type": "execute_result"
    }
   ],
   "source": [
    "model.fit(X_train, y_train, epochs=10, batch_size=128, validation_data=(X_test, y_test), callbacks=[checkpoint])"
   ]
  },
  {
   "cell_type": "markdown",
   "id": "e97f803e",
   "metadata": {},
   "source": [
    "<h1>Testing the Model</h1>"
   ]
  },
  {
   "cell_type": "code",
   "execution_count": 38,
   "id": "d0b1d37c",
   "metadata": {},
   "outputs": [],
   "source": [
    "#Loading the trained model\n",
    "loaded_model = load_model(\"models/LSTM.h5\")"
   ]
  },
  {
   "cell_type": "markdown",
   "id": "5f71aa39",
   "metadata": {},
   "source": [
    "<p>The following five cells are to show each component of the sentiment analysis.</p>"
   ]
  },
  {
   "cell_type": "code",
   "execution_count": 39,
   "id": "498db5db",
   "metadata": {},
   "outputs": [
    {
     "name": "stdout",
     "output_type": "stream",
     "text": [
      "Wine Description: This wine is an absolute gem! From the moment I opened the bottle, the rich aroma of ripe berries and subtle hints of oak filled the air. The deep, velvety texture and complex flavor profile delighted my palate with notes of black cherry, vanilla, and a touch of spice. The tannins were smooth, providing a luxurious mouthfeel that lingered pleasantly. This wine is a true masterpiece, perfect for special occasions or simply indulging in a moment of pure bliss.\n"
     ]
    }
   ],
   "source": [
    "description = str(input(\"Wine Description: \"))"
   ]
  },
  {
   "cell_type": "code",
   "execution_count": 40,
   "id": "64f74323",
   "metadata": {},
   "outputs": [
    {
     "name": "stdout",
     "output_type": "stream",
     "text": [
      "Cleaned:  This wine is an absolute gem From the moment I opened the bottle the rich aroma of ripe berries and subtle hints of oak filled the air The deep velvety texture and complex flavor profile delighted my palate with notes of black cherry vanilla and a touch of spice The tannins were smooth providing a luxurious mouthfeel that lingered pleasantly This wine is a true masterpiece perfect for special occasions or simply indulging in a moment of pure bliss\n",
      "Filtered:  ['this wine absolute gem from moment i opened bottle rich aroma ripe berries subtle hints oak filled air the deep velvety texture complex flavor profile delighted palate notes black cherry vanilla touch spice the tannins smooth providing luxurious mouthfeel lingered pleasantly this wine true masterpiece perfect special occasions simply indulging moment pure bliss']\n"
     ]
    }
   ],
   "source": [
    "filtered = filter_input(description)"
   ]
  },
  {
   "cell_type": "code",
   "execution_count": 41,
   "id": "eb3406ef",
   "metadata": {},
   "outputs": [
    {
     "name": "stdout",
     "output_type": "stream",
     "text": [
      "[[    1 11176  5046  1609  1640   184    43   160    18   288   203    92\n",
      "     14  1870   998  3789   206   376    27   154    36   479     4    11]]\n"
     ]
    }
   ],
   "source": [
    "tokenize_words = token.texts_to_sequences(filtered)\n",
    "tokenize_words = tf.keras.preprocessing.sequence.pad_sequences(tokenize_words, maxlen=max_length, padding=\"post\", truncating=\"post\")\n",
    "print(tokenize_words)"
   ]
  },
  {
   "cell_type": "code",
   "execution_count": 42,
   "id": "cef0aa6f",
   "metadata": {},
   "outputs": [
    {
     "name": "stdout",
     "output_type": "stream",
     "text": [
      "1/1 [==============================] - 1s 1s/step\n",
      "[[0.9375412]]\n"
     ]
    }
   ],
   "source": [
    "result = loaded_model.predict(tokenize_words)\n",
    "print(result)"
   ]
  },
  {
   "cell_type": "code",
   "execution_count": 43,
   "id": "cd30f2e8",
   "metadata": {},
   "outputs": [
    {
     "name": "stdout",
     "output_type": "stream",
     "text": [
      "The description was positive.\n"
     ]
    }
   ],
   "source": [
    "display_results(result)"
   ]
  },
  {
   "cell_type": "markdown",
   "id": "26cf707a",
   "metadata": {},
   "source": [
    "<p>The following function calls use exactly the same code as above, just packaged neater and cleaner.</p>"
   ]
  },
  {
   "cell_type": "code",
   "execution_count": 44,
   "id": "c9122455",
   "metadata": {},
   "outputs": [
    {
     "name": "stdout",
     "output_type": "stream",
     "text": [
      "Wine Description: I regretfully purchased this wine based on its seemingly positive reputation, and it was a complete disappointment. The first sip assaulted my senses with an overpowering acidity that overshadowed any potential flavors. The taste was harsh and astringent, leaving a bitter aftertaste that lingered unpleasantly. The alleged notes of fruit were practically nonexistent, drowned out by an overwhelming bitterness. I cannot fathom how anyone could enjoy this wine, and I certainly won't be making the mistake of buying it again.\n",
      "\n",
      "Cleaned:  I regretfully purchased this wine based on its seemingly positive reputation and it was a complete disappointment The first sip assaulted my senses with an overpowering acidity that overshadowed any potential flavors The taste was harsh and astringent leaving a bitter aftertaste that lingered unpleasantly The alleged notes of fruit were practically nonexistent drowned out by an overwhelming bitterness I cannot fathom how anyone could enjoy this wine and I certainly wont be making the mistake of buying it again\n",
      "Filtered:  ['i regretfully purchased wine based seemingly positive reputation complete disappointment the first sip assaulted senses overpowering acidity overshadowed potential flavors the taste harsh astringent leaving bitter aftertaste lingered unpleasantly the alleged notes fruit practically nonexistent drowned overwhelming bitterness i cannot fathom anyone could enjoy wine i certainly wont making mistake buying']\n",
      "\n",
      "[[ 3474     1  2297  1409 10413  4313   969  5978  3789   136   183  3597\n",
      "   1213    12  7395  1206     2  3789   139  1191   425  1330   143  1354]]\n",
      "\n",
      "1/1 [==============================] - 0s 47ms/step\n",
      "[[0.00131099]]\n",
      "\n",
      "The description was negative.\n"
     ]
    }
   ],
   "source": [
    "predict_sentiment()"
   ]
  },
  {
   "cell_type": "code",
   "execution_count": 45,
   "id": "04039867",
   "metadata": {},
   "outputs": [
    {
     "name": "stdout",
     "output_type": "stream",
     "text": [
      "Wine Description: This wine falls somewhere in the middle for me. It has a decent balance of flavors without standing out in any particular way. The aroma upon opening was pleasant, with subtle notes of red berries and a hint of oak. The taste was moderate, with a mix of fruit flavors and a touch of earthiness. The acidity was present but not overly pronounced. The finish was smooth, although it didn't leave a lasting impression. Overall, it's an okay wine, suitable for casual occasions, but it lacks the complexity and depth that would make it truly memorable.\n",
      "\n",
      "Cleaned:  This wine falls somewhere in the middle for me It has a decent balance of flavors without standing out in any particular way The aroma upon opening was pleasant with subtle notes of red berries and a hint of oak The taste was moderate with a mix of fruit flavors and a touch of earthiness The acidity was present but not overly pronounced The finish was smooth although it didnt leave a lasting impression Overall its an okay wine suitable for casual occasions but it lacks the complexity and depth that would make it truly memorable\n",
      "Filtered:  ['this wine falls somewhere middle it decent balance flavors without standing particular way the aroma upon opening pleasant subtle notes red berries hint oak the taste moderate mix fruit flavors touch earthiness the acidity present overly pronounced the finish smooth although didnt leave lasting impression overall okay wine suitable casual occasions lacks complexity depth would make truly memorable']\n",
      "\n",
      "[[    1   819  2458   799  4866   726   104     2   341 11235  1615   216\n",
      "   3789   160   918   574   222   203    11    13   288    87    14  3789]]\n",
      "\n",
      "1/1 [==============================] - 0s 47ms/step\n",
      "[[0.60547376]]\n",
      "\n",
      "The description was positive.\n"
     ]
    }
   ],
   "source": [
    "predict_sentiment()"
   ]
  },
  {
   "cell_type": "markdown",
   "id": "8550c277",
   "metadata": {},
   "source": [
    "<h1>Summary and Conclusion</h1>"
   ]
  },
  {
   "cell_type": "markdown",
   "id": "6301531a",
   "metadata": {},
   "source": [
    "<h3>Summary</h3>"
   ]
  },
  {
   "cell_type": "markdown",
   "id": "3de9e125",
   "metadata": {},
   "source": [
    "<p>This model is built using a dataset of wine descriptions and reviews, which has be cleaned and processed, to predict the sentiment of the description/review. The user is able to include their own review of a wine, and the model will predict the sentiment of it.</p>\n",
    "<p>As an interesting side note, the description/review needs to be fairly long, or the model will predict it is strongly negative, even if there are only positive words within it.</p>"
   ]
  },
  {
   "cell_type": "code",
   "execution_count": 46,
   "id": "32eb2cf2",
   "metadata": {},
   "outputs": [
    {
     "data": {
      "image/png": "[encoded data removed]",
      "text/plain": [
       "<Figure size 1200x600 with 1 Axes>"
      ]
     },
     "metadata": {},
     "output_type": "display_data"
    }
   ],
   "source": [
    "show_metric(model, \"loss\", \"val_loss\", \"Loss\")"
   ]
  },
  {
   "cell_type": "code",
   "execution_count": 47,
   "id": "774770ff",
   "metadata": {},
   "outputs": [
    {
     "data": {
      "image/png": "[encoded data removed]",
      "text/plain": [
       "<Figure size 1200x600 with 1 Axes>"
      ]
     },
     "metadata": {},
     "output_type": "display_data"
    }
   ],
   "source": [
    "show_metric(model, \"accuracy\", \"val_accuracy\", \"Accuracy\")"
   ]
  },
  {
   "cell_type": "markdown",
   "id": "c8ee042e",
   "metadata": {},
   "source": [
    "<h3>Conclusion</h3>"
   ]
  },
  {
   "cell_type": "markdown",
   "id": "edb1ccc7",
   "metadata": {},
   "source": [
    "<p>I ran this model with both 5 and 10 epochs, to see if there were any benefits to an increase in epochs (results from 10 epochs shown above). Unfortunately, it appears that the increase in epochs caused overfitting. The training accuracy jumped quite high, very fast, and continued to rise to 99.77%, but the testing accuracy stalled around 94%. To me, this is classic overfitting on the training data. In addition, the testing loss increased erratically, while the training loss rapidly and smoothly decreased to 0.0121, which again leads me to believe the model was overfit.</p>\n",
    "<p>That being said, the model is still very good at what it does, and I would like to investigate adjustments in the future.</p>\n",
    "<p>My original goal was to build a model that could identify the country that a wine is from, based on the description, but that is outside of my time scope. Some other ideas I have for this dataset are listed below.</p>\n",
    "<ul>\n",
    "\t<li>Reviewer preferences</li>\n",
    "\t<li>Reviewer recommendations</li>\n",
    "\t<li>General recommendations</li>\n",
    "\t<li>Country, province/state, region, winery identification</li>\n",
    "\t<li>Wine designation or variety identification</li>\n",
    "\t<li>Price or age prediction</li>\n",
    "</ul>\n",
    "<p>Side Note: I have been getting more confident with my abilities to create my own functions. I have been working hard to generalize them, so that I could drop them into future code as needed, or even make my own generalized \"utility\" program that contains dozens of functions that I can import into projects.</p>"
   ]
  }
 ],
 "metadata": {
  "kernelspec": {
   "display_name": "p3918",
   "language": "python",
   "name": "p3918"
  },
  "language_info": {
   "codemirror_mode": {
    "name": "ipython",
    "version": 3
   },
   "file_extension": ".py",
   "mimetype": "text/x-python",
   "name": "python",
   "nbconvert_exporter": "python",
   "pygments_lexer": "ipython3",
   "version": "3.9.18"
  }
 },
 "nbformat": 4,
 "nbformat_minor": 5
}
